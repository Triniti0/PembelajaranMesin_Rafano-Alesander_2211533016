{
  "nbformat": 4,
  "nbformat_minor": 0,
  "metadata": {
    "colab": {
      "provenance": [],
      "authorship_tag": "ABX9TyOmYqYFH9ttHkd1QV7pokpO",
      "include_colab_link": true
    },
    "kernelspec": {
      "name": "python3",
      "display_name": "Python 3"
    },
    "language_info": {
      "name": "python"
    }
  },
  "cells": [
    {
      "cell_type": "markdown",
      "metadata": {
        "id": "view-in-github",
        "colab_type": "text"
      },
      "source": [
        "<a href=\"https://colab.research.google.com/github/Triniti0/PembelajaranMesin_RafanoAlesander_2211533016/blob/main/Pembelajaran_Mesin_(svm).ipynb\" target=\"_parent\"><img src=\"https://colab.research.google.com/assets/colab-badge.svg\" alt=\"Open In Colab\"/></a>"
      ]
    },
    {
      "cell_type": "code",
      "execution_count": null,
      "metadata": {
        "id": "dkakavH1633x"
      },
      "outputs": [],
      "source": [
        "#package for analysys\n",
        "import pandas as pd\n",
        "import numpy as np\n",
        "from sklearn import svm\n",
        "\n",
        "#pakcage for visuals\n",
        "import matplotlib.pyplot as  plt\n",
        "import seaborn as sns; sns.set(font_scale=1.2)\n",
        "\n",
        "#show chart\n",
        "%matplotlib inline\n",
        "\n",
        "#packages pickle\n",
        "import pickle\n"
      ]
    },
    {
      "cell_type": "code",
      "source": [],
      "metadata": {
        "id": "AChEcH6K_GwB"
      },
      "execution_count": null,
      "outputs": []
    }
  ]
}